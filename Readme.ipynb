{
 "cells": [
  {
   "cell_type": "markdown",
   "metadata": {},
   "source": [
    "# Walmart Sales Analysis Project\n",
    "\n",
    "## Overview\n",
    "This project focuses on analyzing the supply and demand dynamics of Walmart around key public holidays. By integrating grocery sales data with complementary data, I aimed to understand how holidays such as the Super Bowl, Labour Day, Thanksgiving, and Christmas affect Walmart's sales performance.\n",
    "\n",
    "## Data Sources\n",
    "1. **grocery_sales** table from a PostgreSQL database:\n",
    "   - `index`: Unique ID of the row\n",
    "   - `Store_ID`: Store number\n",
    "   - `Date`: The week of sales\n",
    "   - `Weekly_Sales`: Sales for the given store\n",
    "\n",
    "2. **extra_data.parquet** file containing complementary data:\n",
    "   - `IsHoliday`: Indicates if the week contains a public holiday\n",
    "   - `Temperature`: Temperature on the day of sale\n",
    "   - `Fuel_Price`: Cost of fuel in the region\n",
    "   - `CPI`: Consumer price index\n",
    "   - `Unemployment`: Unemployment rate\n",
    "   - `MarkDown1`, `MarkDown2`, `MarkDown3`, `MarkDown4`: Promotional markdowns\n",
    "   - `Dept`: Department number in each store\n",
    "   - `Size`: Size of the store\n",
    "   - `Type`: Type of the store\n",
    "\n",
    "## Project Steps\n",
    "1. **Data Extraction**: Loaded the grocery_sales table from a PostgreSQL database and extra_data from a parquet file.\n",
    "2. **Data Transformation**: Merged and cleaned the data to create a comprehensive dataset (`clean_data`).\n",
    "3. **Analysis**: Conducted preliminary analysis to calculate monthly sales, resulting in the `agg_data` DataFrame.\n",
    "4. **Output**: Saved the cleaned and aggregated data as CSV files for further analysis and reporting.\n",
    "\n",
    "## Key Features\n",
    "- **Integrated Data Pipeline**: Combines data from multiple sources to create a rich dataset for analysis.\n",
    "- **Monthly Sales Analysis**: Evaluates the impact of public holidays on Walmart's sales, providing valuable business insights.\n",
    "- **Efficient Data Handling**: Utilizes pandas for effective data manipulation and analysis.\n",
    "\n",
    "## Installation and Usage\n",
    "To replicate this project, follow these steps:\n",
    "\n",
    "1. Clone the repository:\n",
    "   ```bash\n",
    "   git clone https://github.com/yourusername/walmart-sales-analysis.git\n",
    "   cd walmart-sales-analysis\n"
   ]
  },
  {
   "cell_type": "markdown",
   "metadata": {},
   "source": [
    "2. Install the required packages:\n",
    "    ```bash\n",
    "    pip install -r requirements.txt\n",
    "\n",
    "3. Ensure you have access to the PostgreSQL database and the extra_data.parquet file. Update the database connection details in the script as needed.\n",
    "\n",
    "\n",
    "\n",
    "4. Run the script to perform the analysis:\n",
    "    ```bash\n",
    "    python analyze_sales.py\n",
    "\n",
    "## Results\n",
    "The results of the analysis are saved in the following files:\n",
    "\n",
    "clean_data.csv: The combined and cleaned dataset.\n",
    "agg_data.csv: The aggregated monthly sales data.\n",
    "\n",
    "## Conclusion\n",
    "This project demonstrates my ability to build data pipelines, perform data integration, and conduct meaningful analysis to derive business insights. It highlights my skills in data manipulation, SQL, and Python, making me a strong candidate for data analysis and data engineering roles.\n"
   ]
  }
 ],
 "metadata": {
  "kernelspec": {
   "display_name": "Python 3",
   "language": "python",
   "name": "python3"
  },
  "language_info": {
   "name": "python",
   "version": "3.12.3"
  }
 },
 "nbformat": 4,
 "nbformat_minor": 2
}
