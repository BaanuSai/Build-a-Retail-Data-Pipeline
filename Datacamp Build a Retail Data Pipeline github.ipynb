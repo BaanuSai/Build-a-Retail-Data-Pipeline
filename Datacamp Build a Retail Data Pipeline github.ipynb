{
 "cells": [
  {
   "cell_type": "code",
   "execution_count": 28,
   "metadata": {},
   "outputs": [
    {
     "name": "stdout",
     "output_type": "stream",
     "text": [
      "Connection successful\n"
     ]
    }
   ],
   "source": [
    "import pandas as pd\n",
    "import psycopg2\n",
    "from sqlalchemy import create_engine\n",
    "import urllib.parse\n",
    "\n",
    "hostname = '#include ur localhost name'\n",
    "database = '#include ur Database name'\n",
    "username = '#include ur username'\n",
    "pwd = '#include your password'\n",
    "port_id = 5432\n",
    "\n",
    "try:\n",
    "    # Establish the connection using psycopg2\n",
    "    conn = psycopg2.connect(\n",
    "        host=hostname,\n",
    "        dbname=database,\n",
    "        user=username,\n",
    "        password=pwd,\n",
    "        port=port_id)\n",
    "\n",
    "    print(\"Connection successful\")\n",
    "\n",
    "    # URL encode the password\n",
    "    encoded_password = urllib.parse.quote(pwd)\n",
    "\n",
    "    # Create the SQLAlchemy engine\n",
    "    connection_string = f'postgresql://{username}:{encoded_password}@{hostname}:{port_id}/{database}'\n",
    "    engine = create_engine(connection_string)\n",
    "\n",
    "except Exception as error:\n",
    "    print(\"Connection failed\")\n",
    "    print(error)\n",
    "\n"
   ]
  },
  {
   "cell_type": "code",
   "execution_count": 36,
   "metadata": {},
   "outputs": [
    {
     "name": "stdout",
     "output_type": "stream",
     "text": [
      "Tables in the database: ['grocery_sales']\n",
      "   index  Store_ID                     Date  Dept  Weekly_Sales\n",
      "0      0         1  2010-02-05T00:00:00.000     1      24924.50\n",
      "1      1         1  2010-02-05T00:00:00.000    26      11737.12\n",
      "2      2         1  2010-02-05T00:00:00.000    17      13223.76\n",
      "3      3         1  2010-02-05T00:00:00.000    45         37.44\n",
      "4      4         1  2010-02-05T00:00:00.000    28       1085.29\n",
      "       index  Store_ID                     Date  Dept  Weekly_Sales\n",
      "0          0         1  2010-02-05T00:00:00.000     1      24924.50\n",
      "1          1         1  2010-02-05T00:00:00.000    26      11737.12\n",
      "2          2         1  2010-02-05T00:00:00.000    17      13223.76\n",
      "3          3         1  2010-02-05T00:00:00.000    45         37.44\n",
      "4          4         1  2010-02-05T00:00:00.000    28       1085.29\n",
      "...      ...       ...                      ...   ...           ...\n",
      "19995  20034         2  2012-09-14T00:00:00.000    11      16955.50\n",
      "19996  20035         2  2012-09-14T00:00:00.000    80      25811.35\n",
      "19997  20036         2  2012-09-14T00:00:00.000    74      14724.80\n",
      "19998  20037         2  2012-09-14T00:00:00.000    67       9588.39\n",
      "19999  20038         2  2012-09-14T00:00:00.000    14      15959.23\n",
      "\n",
      "[20000 rows x 5 columns]\n"
     ]
    }
   ],
   "source": [
    "# List tables in the database\n",
    "from sqlalchemy import inspect\n",
    "inspector = inspect(engine)\n",
    "tables = inspector.get_table_names()\n",
    "print(\"Tables in the database:\", tables)\n",
    "\n",
    " # View the contents of a specific table, e.g., 'grocery_sales'\n",
    "table_name = 'grocery_sales'  # Replace with your actual table name\n",
    "df = pd.read_sql_table(table_name, con=engine)\n",
    "\n",
    "# Display the first few rows of the table\n",
    "print(df.head())\n",
    "\n",
    "grocery_sales = pd.read_sql_table('grocery_sales', con=engine)\n",
    "print(grocery_sales)\n"
   ]
  },
  {
   "cell_type": "code",
   "execution_count": 41,
   "metadata": {},
   "outputs": [
    {
     "name": "stdout",
     "output_type": "stream",
     "text": [
      "         index  IsHoliday  Temperature  Fuel_Price  MarkDown1  MarkDown2  \\\n",
      "0            0          0        42.31       2.572        0.0        0.0   \n",
      "1            1          0        42.31       2.572        0.0        0.0   \n",
      "2            2          0        42.31       2.572        0.0        0.0   \n",
      "3            3          0        42.31       2.572        0.0        0.0   \n",
      "4            4          0        42.31       2.572        0.0        0.0   \n",
      "...        ...        ...          ...         ...        ...        ...   \n",
      "231517  232414          0        55.75       4.192        0.0        0.0   \n",
      "231518  232415          0        55.75       4.192        0.0        0.0   \n",
      "231519  232416          0        55.75       4.192        0.0        0.0   \n",
      "231520  232417          0        55.75       4.192        0.0        0.0   \n",
      "231521  232418          0        55.75       4.192        0.0        0.0   \n",
      "\n",
      "        MarkDown3  MarkDown4  MarkDown5         CPI  Unemployment  Type  \\\n",
      "0             0.0        0.0        0.0  211.096358         8.106   3.0   \n",
      "1             0.0        0.0        0.0  211.096358         8.106   3.0   \n",
      "2             0.0        0.0        0.0  211.096358         8.106   3.0   \n",
      "3             0.0        0.0        0.0  211.096358           NaN   3.0   \n",
      "4             0.0        0.0        0.0  211.096358           NaN   3.0   \n",
      "...           ...        ...        ...         ...           ...   ...   \n",
      "231517        0.0        0.0        0.0  134.514367         8.212   3.0   \n",
      "231518        0.0        0.0        0.0  134.514367         8.212   3.0   \n",
      "231519        0.0        0.0        0.0  134.514367         8.212   3.0   \n",
      "231520        0.0        0.0        0.0  134.514367         8.212   3.0   \n",
      "231521        0.0        NaN        NaN         NaN           NaN   NaN   \n",
      "\n",
      "            Size  \n",
      "0       151315.0  \n",
      "1       151315.0  \n",
      "2       151315.0  \n",
      "3       151315.0  \n",
      "4       151315.0  \n",
      "...          ...  \n",
      "231517  203819.0  \n",
      "231518  203819.0  \n",
      "231519  203819.0  \n",
      "231520  203819.0  \n",
      "231521       NaN  \n",
      "\n",
      "[231522 rows x 13 columns]\n"
     ]
    }
   ],
   "source": [
    "import pandas as pd\n",
    "\n",
    "# Load extra data from parquet file\n",
    "extra_data = pd.read_parquet(r'C:\\Users\\12145\\Documents\\SkillTrack\\Data Camp Project\\extra_data.parquet')\n",
    "print(extra_data)\n"
   ]
  },
  {
   "cell_type": "code",
   "execution_count": 43,
   "metadata": {},
   "outputs": [
    {
     "name": "stdout",
     "output_type": "stream",
     "text": [
      "grocery_sales columns: Index(['index', 'Store_ID', 'Date', 'Dept', 'Weekly_Sales'], dtype='object')\n",
      "extra_data columns: Index(['index', 'IsHoliday', 'Temperature', 'Fuel_Price', 'MarkDown1',\n",
      "       'MarkDown2', 'MarkDown3', 'MarkDown4', 'MarkDown5', 'CPI',\n",
      "       'Unemployment', 'Type', 'Size'],\n",
      "      dtype='object')\n"
     ]
    }
   ],
   "source": [
    "print(\"grocery_sales columns:\", grocery_sales.columns)\n",
    "print(\"extra_data columns:\", extra_data.columns)"
   ]
  },
  {
   "cell_type": "code",
   "execution_count": 44,
   "metadata": {},
   "outputs": [
    {
     "name": "stdout",
     "output_type": "stream",
     "text": [
      "clean_data saved successfully.\n"
     ]
    }
   ],
   "source": [
    "grocery_sales['Month'] = pd.to_datetime(grocery_sales['Date']).dt.month\n",
    "grocery_sales = grocery_sales[['Store_ID', 'Month', 'Dept', 'Weekly_Sales']]\n",
    "\n",
    "if 'IsHoliday' in extra_data.columns and 'CPI' in extra_data.columns and 'Unemployment' in extra_data.columns:\n",
    "        extra_data = extra_data[['IsHoliday', 'CPI', 'Unemployment']]\n",
    "        \n",
    "        # Concatenate the DataFrames\n",
    "        combined_data = pd.concat([grocery_sales, extra_data], axis=1)\n",
    "\n",
    "        # Save the combined data to a CSV file\n",
    "        combined_data.to_csv('clean_data.csv', index=False)\n",
    "        print(\"clean_data saved successfully.\")\n",
    "else:\n",
    "        print(\"Required columns are missing in extra_data.\")"
   ]
  },
  {
   "cell_type": "code",
   "execution_count": 51,
   "metadata": {},
   "outputs": [],
   "source": [
    "clean_data = combined_data[['Store_ID', 'Month', 'Dept', 'IsHoliday', 'Weekly_Sales', 'CPI', 'Unemployment']]\n"
   ]
  },
  {
   "cell_type": "code",
   "execution_count": 53,
   "metadata": {},
   "outputs": [
    {
     "name": "stdout",
     "output_type": "stream",
     "text": [
      "clean_data saved successfully.\n"
     ]
    }
   ],
   "source": [
    "clean_data.to_csv('clean_data.csv', index=False)\n",
    "print(\"clean_data saved successfully.\")"
   ]
  },
  {
   "cell_type": "code",
   "execution_count": 54,
   "metadata": {},
   "outputs": [],
   "source": [
    "agg_data = clean_data.groupby('Month').agg({\n",
    "    'Weekly_Sales': 'sum'\n",
    "}).reset_index()"
   ]
  },
  {
   "cell_type": "code",
   "execution_count": 55,
   "metadata": {},
   "outputs": [
    {
     "name": "stdout",
     "output_type": "stream",
     "text": [
      "agg_data saved successfully.\n"
     ]
    }
   ],
   "source": [
    "agg_data.to_csv('agg_data.csv', index=False)\n",
    "print(\"agg_data saved successfully.\")\n",
    "   "
   ]
  },
  {
   "cell_type": "code",
   "execution_count": 57,
   "metadata": {},
   "outputs": [
    {
     "name": "stdout",
     "output_type": "stream",
     "text": [
      "clean_data saved successfully.\n",
      "agg_data saved successfully.\n"
     ]
    }
   ],
   "source": [
    "# Save the combined data to a CSV file\n",
    "clean_data.to_csv('clean_data.csv', index=False)\n",
    "print(\"clean_data saved successfully.\")\n",
    "\n",
    "# Group by Month and aggregate Weekly_Sales\n",
    "agg_data = clean_data.groupby('Month').agg({\n",
    "    'Weekly_Sales': 'sum'\n",
    "}).reset_index()\n",
    "\n",
    "# Save agg_data to a CSV file\n",
    "agg_data.to_csv('agg_data.csv', index=False)\n",
    "print(\"agg_data saved successfully.\")"
   ]
  },
  {
   "cell_type": "code",
   "execution_count": 56,
   "metadata": {},
   "outputs": [
    {
     "name": "stdout",
     "output_type": "stream",
     "text": [
      "    Month  Weekly_Sales\n",
      "0     1.0   25069663.31\n",
      "1     2.0   43268092.94\n",
      "2     3.0   45050672.57\n",
      "3     4.0   47503671.89\n",
      "4     5.0   41200198.89\n",
      "5     6.0   45628898.43\n",
      "6     7.0   46169757.33\n",
      "7     8.0   44753664.10\n",
      "8     9.0   37511541.35\n",
      "9    10.0   35575334.65\n",
      "10   11.0   30219256.35\n",
      "11   12.0   41775566.37\n"
     ]
    }
   ],
   "source": [
    "print(agg_data)"
   ]
  },
  {
   "cell_type": "code",
   "execution_count": null,
   "metadata": {},
   "outputs": [],
   "source": []
  }
 ],
 "metadata": {
  "kernelspec": {
   "display_name": "Python 3",
   "language": "python",
   "name": "python3"
  },
  "language_info": {
   "codemirror_mode": {
    "name": "ipython",
    "version": 3
   },
   "file_extension": ".py",
   "mimetype": "text/x-python",
   "name": "python",
   "nbconvert_exporter": "python",
   "pygments_lexer": "ipython3",
   "version": "3.12.3"
  }
 },
 "nbformat": 4,
 "nbformat_minor": 2
}
